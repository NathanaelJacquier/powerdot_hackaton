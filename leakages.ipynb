{
 "cells": [
  {
   "cell_type": "code",
   "execution_count": 2,
   "metadata": {},
   "outputs": [
    {
     "name": "stdout",
     "output_type": "stream",
     "text": [
      "Conversion complete. File saved as: C:\\Users\\Nathanael\\Dropbox\\Centrale_etudes\\CSEC powerdot\\energy_metering_utc.csv\n"
     ]
    }
   ],
   "source": [
    "import pandas as pd\n",
    "import pytz\n",
    "\n",
    "# File paths\n",
    "input_file = \"C:\\\\Users\\\\Nathanael\\\\Dropbox\\\\Centrale_etudes\\\\CSEC powerdot\\\\energy_metering.csv\"\n",
    "output_file = \"C:\\\\Users\\\\Nathanael\\\\Dropbox\\\\Centrale_etudes\\\\CSEC powerdot\\\\energy_metering_utc.csv\"\n",
    "\n",
    "# Load the dataset\n",
    "df = pd.read_csv(input_file)\n",
    "\n",
    "# Convert the meter_timestamp column to datetime format\n",
    "df[\"meter_timestamp\"] = pd.to_datetime(df[\"meter_timestamp\"])\n",
    "\n",
    "# Define timezones\n",
    "paris_tz = pytz.timezone(\"Europe/Paris\")\n",
    "utc_tz = pytz.utc\n",
    "\n",
    "# Localize to Europe/Paris, handling DST ambiguity by setting ambiguous times to NaT (Not-a-Time)\n",
    "df[\"meter_timestamp\"] = df[\"meter_timestamp\"].dt.tz_localize(paris_tz, ambiguous=\"NaT\", nonexistent=\"shift_forward\")\n",
    "\n",
    "# Drop NaT values (ambiguous timestamps that could not be resolved)\n",
    "df.dropna(subset=[\"meter_timestamp\"], inplace=True)\n",
    "\n",
    "# Convert to UTC\n",
    "df[\"meter_timestamp\"] = df[\"meter_timestamp\"].dt.tz_convert(utc_tz)\n",
    "\n",
    "# Save the new dataset\n",
    "df.to_csv(output_file, index=False)\n",
    "\n",
    "print(f\"Conversion complete. File saved as: {output_file}\")\n",
    "\n"
   ]
  },
  {
   "cell_type": "code",
   "execution_count": 1,
   "metadata": {},
   "outputs": [
    {
     "name": "stderr",
     "output_type": "stream",
     "text": [
      "C:\\Users\\Nathanael\\AppData\\Local\\Temp\\ipykernel_21328\\1863865742.py:14: FutureWarning: 'H' is deprecated and will be removed in a future version, please use 'h' instead.\n",
      "  df_energy[\"hour\"] = df_energy[\"meter_timestamp\"].dt.floor(\"H\")  # Round to full hour in datetime format\n"
     ]
    },
    {
     "name": "stdout",
     "output_type": "stream",
     "text": [
      "Energy leakage detection complete. Leakages saved in: C:\\Users\\Nathanael\\Dropbox\\Centrale_etudes\\CSEC powerdot\\leakages.csv\n"
     ]
    }
   ],
   "source": [
    "import pandas as pd\n",
    "\n",
    "# File paths\n",
    "energy_file = \"C:\\\\Users\\\\Nathanael\\\\Dropbox\\\\Centrale_etudes\\\\CSEC powerdot\\\\energy_metering_utc.csv\"\n",
    "charging_file = \"C:\\\\Users\\\\Nathanael\\\\Dropbox\\\\Centrale_etudes\\\\CSEC powerdot\\\\max_consumption_per_location.csv\"\n",
    "output_file = \"C:\\\\Users\\\\Nathanael\\\\Dropbox\\\\Centrale_etudes\\\\CSEC powerdot\\\\leakages.csv\"\n",
    "\n",
    "# Load datasets\n",
    "df_energy = pd.read_csv(energy_file)\n",
    "df_charging = pd.read_csv(charging_file)\n",
    "\n",
    "# Convert timestamps to datetime format\n",
    "df_energy[\"meter_timestamp\"] = pd.to_datetime(df_energy[\"meter_timestamp\"], utc=True)  # Ensure UTC timezone\n",
    "df_energy[\"hour\"] = df_energy[\"meter_timestamp\"].dt.floor(\"H\")  # Round to full hour in datetime format\n",
    "\n",
    "df_charging[\"day\"] = pd.to_datetime(df_charging[\"day\"])  # Ensure day is in datetime format\n",
    "\n",
    "# Convert df_charging hour column into a full datetime format (combine day and hour)\n",
    "df_charging[\"hour\"] = pd.to_datetime(df_charging[\"day\"]) + pd.to_timedelta(df_charging[\"hour\"], unit=\"h\")\n",
    "\n",
    "# Ensure both datasets have UTC timezone\n",
    "df_charging[\"hour\"] = df_charging[\"hour\"].dt.tz_localize(\"UTC\")  # Ensure it's in UTC\n",
    "\n",
    "# Merge energy data with charging data on meter_id and hour\n",
    "df_merged = df_energy.merge(\n",
    "    df_charging,\n",
    "    how=\"left\",\n",
    "    on=[\"meter_id\", \"hour\"]  # Now both columns are in datetime format\n",
    ")\n",
    "\n",
    "# Identify energy leakages:\n",
    "# - There is power consumption (power_w > 0)\n",
    "# - No cars were charging (max_consumption == 0 or NaN)\n",
    "df_leakages = df_merged[(df_merged[\"power_w\"] > 0) & ((df_merged[\"max_consumption\"].isna()) | (df_merged[\"max_consumption\"] == 0))]\n",
    "\n",
    "# Select only the necessary columns: meter_id and hour\n",
    "df_leakages = df_leakages[[\"meter_id\", \"hour\"]].drop_duplicates()\n",
    "\n",
    "# Save to CSV\n",
    "df_leakages.to_csv(output_file, index=False)\n",
    "\n",
    "print(f\"Energy leakage detection complete. Leakages saved in: {output_file}\")\n",
    "\n"
   ]
  }
 ],
 "metadata": {
  "kernelspec": {
   "display_name": "Python 3",
   "language": "python",
   "name": "python3"
  },
  "language_info": {
   "codemirror_mode": {
    "name": "ipython",
    "version": 3
   },
   "file_extension": ".py",
   "mimetype": "text/x-python",
   "name": "python",
   "nbconvert_exporter": "python",
   "pygments_lexer": "ipython3",
   "version": "3.11.5"
  }
 },
 "nbformat": 4,
 "nbformat_minor": 2
}
